{
 "cells": [
  {
   "cell_type": "markdown",
   "metadata": {},
   "source": [
    "# Explore Calibrated Data"
   ]
  },
  {
   "cell_type": "code",
   "execution_count": null,
   "metadata": {},
   "outputs": [],
   "source": [
    "import ctapipe\n",
    "from ctapipe.utils.datasets import get_dataset_path\n",
    "from ctapipe.io import EventSource, EventSeeker\n",
    "from ctapipe.visualization import CameraDisplay\n",
    "from ctapipe.instrument import CameraGeometry\n",
    "from matplotlib import pyplot as plt\n",
    "from astropy import units as u\n",
    "import numpy as np\n",
    "\n",
    "%matplotlib inline\n",
    "plt.style.use(\"ggplot\")"
   ]
  },
  {
   "cell_type": "code",
   "execution_count": null,
   "metadata": {},
   "outputs": [],
   "source": [
    "print(ctapipe.__version__)\n",
    "print(ctapipe.__file__)"
   ]
  },
  {
   "cell_type": "markdown",
   "metadata": {},
   "source": [
    "Let's first open a raw event file and get an event out of it:"
   ]
  },
  {
   "cell_type": "code",
   "execution_count": null,
   "metadata": {},
   "outputs": [],
   "source": [
    "filename = get_dataset_path(\"gamma_prod5.simtel.zst\")\n",
    "source = EventSource(filename, max_events=2)\n",
    "\n",
    "for event in source:\n",
    "    print(event.index.event_id)"
   ]
  },
  {
   "cell_type": "code",
   "execution_count": null,
   "metadata": {},
   "outputs": [],
   "source": [
    "filename"
   ]
  },
  {
   "cell_type": "code",
   "execution_count": null,
   "metadata": {},
   "outputs": [],
   "source": [
    "source"
   ]
  },
  {
   "cell_type": "code",
   "execution_count": null,
   "metadata": {},
   "outputs": [],
   "source": [
    "event"
   ]
  },
  {
   "cell_type": "code",
   "execution_count": null,
   "metadata": {
    "scrolled": false
   },
   "outputs": [],
   "source": [
    "event.tel[26]"
   ]
  },
  {
   "cell_type": "markdown",
   "metadata": {},
   "source": [
    "## Perform basic calibration:\n",
    "\n",
    "Here we will use a `CameraCalibrator` which is just a simple wrapper that runs the two calibration and trace-integration phases of the pipeline, taking the data from levels:\n",
    "\n",
    "  **R1** &rightarrow; **DL0** &rightarrow; **DL1**\n",
    "\n",
    "Note that we have not specified any configuration to the `CameraCalibrator`, so it will be using the default algorithms and thresholds."
   ]
  },
  {
   "cell_type": "code",
   "execution_count": null,
   "metadata": {},
   "outputs": [],
   "source": [
    "from ctapipe.calib import CameraCalibrator\n",
    "\n",
    "calib = CameraCalibrator(subarray=source.subarray)\n",
    "calib(event)"
   ]
  },
  {
   "cell_type": "markdown",
   "metadata": {},
   "source": [
    "Now the *r1*, *dl0* and *dl1* containers are filled in the event\n",
    "\n",
    "* **r0**: Contains device specific raw data. This is usually only available in simulations or in expert data. \n",
    "* **r1**: contains the \"r1-calibrated\" waveforms, after gain-selection, pedestal subtraction, and gain-correction\n",
    "* **dl0**: is the same but with optional data volume reduction (some pixels not filled), by default, this is not performed, so it is the same as r1\n",
    "* **dl1**: contains the time-integrated *image* that has been calculated using an `ImageExtractor` (`NeighborPeakWindowSum` by default)"
   ]
  },
  {
   "cell_type": "code",
   "execution_count": null,
   "metadata": {},
   "outputs": [],
   "source": [
    "for tel_id, tel_event in event.tel.items():\n",
    "    print(\"TEL{:03}: {}\".format(tel_id, source.subarray.tel[tel_id]))\n",
    "    print(\"  - r0  wave shape  : {}\".format(tel_event.r0.waveform.shape))\n",
    "    print(\"  - r1  wave shape  : {}\".format(tel_event.r1.waveform.shape))\n",
    "    print(\"  - dl1 image shape : {}\".format(tel_event.dl1.image.shape))"
   ]
  },
  {
   "cell_type": "markdown",
   "metadata": {},
   "source": [
    "## Some image processing:\n",
    "\n",
    "Let's look at the image"
   ]
  },
  {
   "cell_type": "code",
   "execution_count": null,
   "metadata": {},
   "outputs": [],
   "source": [
    "from ctapipe.visualization import CameraDisplay\n",
    "\n",
    "tel_id, tel_event = next(iter(event.tel.items()))\n",
    "sub = source.subarray\n",
    "geometry = sub.tel[tel_id].camera.geometry\n",
    "image = tel_event.dl1.image"
   ]
  },
  {
   "cell_type": "code",
   "execution_count": null,
   "metadata": {},
   "outputs": [],
   "source": [
    "disp = CameraDisplay(geometry, image=image)"
   ]
  },
  {
   "cell_type": "code",
   "execution_count": null,
   "metadata": {},
   "outputs": [],
   "source": [
    "from ctapipe.image import tailcuts_clean, hillas_parameters"
   ]
  },
  {
   "cell_type": "code",
   "execution_count": null,
   "metadata": {},
   "outputs": [],
   "source": [
    "mask = tailcuts_clean(\n",
    "    geometry,\n",
    "    image,\n",
    "    picture_thresh=10,\n",
    "    boundary_thresh=5,\n",
    "    min_number_picture_neighbors=2,\n",
    ")\n",
    "cleaned = image.copy()\n",
    "cleaned[~mask] = 0\n",
    "disp = CameraDisplay(geometry, image=cleaned)"
   ]
  },
  {
   "cell_type": "code",
   "execution_count": null,
   "metadata": {},
   "outputs": [],
   "source": [
    "params = hillas_parameters(geometry, cleaned)\n",
    "print(params)\n",
    "params"
   ]
  },
  {
   "cell_type": "code",
   "execution_count": null,
   "metadata": {},
   "outputs": [],
   "source": [
    "params = hillas_parameters(geometry, cleaned)\n",
    "\n",
    "plt.figure(figsize=(5, 5))\n",
    "disp = CameraDisplay(geometry, image=image)\n",
    "disp.add_colorbar()\n",
    "disp.overlay_moments(params, color=\"xkcd:light blue\", lw=3)\n",
    "disp.highlight_pixels(mask, color=\"white\", alpha=0.3, linewidth=2)\n",
    "\n",
    "plt.xlim(params.x.to_value(u.m) - 0.5, params.x.to_value(u.m) + 0.5)\n",
    "plt.ylim(params.y.to_value(u.m) - 0.5, params.y.to_value(u.m) + 0.5)"
   ]
  },
  {
   "cell_type": "markdown",
   "metadata": {},
   "source": [
    "## ImageProcessor\n",
    "\n",
    "The above steps can be configured and run easily using the `ImageProcessor` class:"
   ]
  },
  {
   "cell_type": "code",
   "execution_count": null,
   "metadata": {},
   "outputs": [],
   "source": [
    "from ctapipe.image import ImageProcessor\n",
    "\n",
    "image_processor = ImageProcessor(subarray=source.subarray, use_telescope_frame=False)\n",
    "\n",
    "image_processor(event)"
   ]
  },
  {
   "cell_type": "markdown",
   "metadata": {},
   "source": [
    "## More complex image processing:\n",
    "\n",
    "Let's now explore how stereo reconstruction works. \n",
    "\n",
    "### first, look at a summed image from multiple telescopes\n",
    "\n",
    "For this, we want to use a `CameraDisplay` again, but since we can't sum and display images with different cameras, we'll just sub-select images from a particular camera type\n",
    "\n",
    "These are the telescopes that are in this event:"
   ]
  },
  {
   "cell_type": "code",
   "execution_count": null,
   "metadata": {},
   "outputs": [],
   "source": [
    "# use a set here, so we can intersect it later\n",
    "tels_in_event = set(event.tel.keys())\n",
    "tels_in_event"
   ]
  },
  {
   "cell_type": "code",
   "execution_count": null,
   "metadata": {},
   "outputs": [],
   "source": [
    "mst_tel_ids = set(sub.get_tel_ids_for_type(\"MST_MST_NectarCam\"))\n",
    "mst_tel_ids"
   ]
  },
  {
   "cell_type": "code",
   "execution_count": null,
   "metadata": {},
   "outputs": [],
   "source": [
    "msts_in_event = list(tels_in_event.intersection(mst_tel_ids))\n",
    "\n",
    "tel = sub.tel[msts_in_event[0]]\n",
    "print(f\"{tel} in event: {msts_in_event}\")"
   ]
  },
  {
   "cell_type": "markdown",
   "metadata": {},
   "source": [
    "Now let's sum and display those images"
   ]
  },
  {
   "cell_type": "code",
   "execution_count": null,
   "metadata": {
    "scrolled": false
   },
   "outputs": [],
   "source": [
    "image_sum = np.zeros(tel.camera.geometry.n_pixels)\n",
    "\n",
    "\n",
    "fig, ax = plt.subplots(figsize=(8, 8))\n",
    "\n",
    "disp = CameraDisplay(tel.camera.geometry, ax=ax)\n",
    "\n",
    "\n",
    "for tel_id in msts_in_event:\n",
    "    dl1 = event.tel[tel_id].dl1\n",
    "    image_sum += dl1.image\n",
    "\n",
    "    disp.overlay_moments(\n",
    "        dl1.parameters.hillas, with_label=False, keep_old=True, lw=3, n_sigma=2\n",
    "    )\n",
    "\n",
    "disp.image = image_sum\n",
    "plt.title(\"Sum of {}x {}\".format(len(msts_in_event), tel))"
   ]
  },
  {
   "cell_type": "markdown",
   "metadata": {},
   "source": [
    "let's also show which telescopes those were. Note that currently ArrayDisplay's value field is a vector by `tel_index`, not `tel_id`, so we have to convert to a tel_index. (this may change in a future version to be more user-friendly)\n"
   ]
  },
  {
   "cell_type": "code",
   "execution_count": null,
   "metadata": {},
   "outputs": [],
   "source": [
    "from ctapipe.visualization import ArrayDisplay"
   ]
  },
  {
   "cell_type": "code",
   "execution_count": null,
   "metadata": {},
   "outputs": [],
   "source": [
    "nectarcam_subarray = sub.select_subarray(mst_tel_ids, name=\"NectarCam\")\n",
    "\n",
    "hit_pattern = np.zeros(shape=nectarcam_subarray.n_tels)\n",
    "hit_pattern[nectarcam_subarray.tel_ids_to_indices(msts_in_event)] = 1\n",
    "\n",
    "plt.set_cmap(plt.cm.Accent)\n",
    "plt.figure(figsize=(8, 8))\n",
    "\n",
    "ad = ArrayDisplay(nectarcam_subarray)\n",
    "ad.values = hit_pattern\n",
    "ad.add_labels()"
   ]
  }
 ],
 "metadata": {
  "kernelspec": {
   "display_name": "Python 3 (ipykernel)",
   "language": "python",
   "name": "python3"
  },
  "language_info": {
   "codemirror_mode": {
    "name": "ipython",
    "version": 3
   },
   "file_extension": ".py",
   "mimetype": "text/x-python",
   "name": "python",
   "nbconvert_exporter": "python",
   "pygments_lexer": "ipython3",
   "version": "3.9.16"
  }
 },
 "nbformat": 4,
 "nbformat_minor": 4
}
